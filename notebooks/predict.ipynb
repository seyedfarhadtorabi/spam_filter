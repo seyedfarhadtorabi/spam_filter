{
 "cells": [
  {
   "cell_type": "code",
   "execution_count": 18,
   "id": "c66caafd",
   "metadata": {},
   "outputs": [
    {
     "name": "stdout",
     "output_type": "stream",
     "text": [
      "0\n"
     ]
    },
    {
     "name": "stderr",
     "output_type": "stream",
     "text": [
      "C:\\Users\\Administrator\\AppData\\Roaming\\Python\\Python311\\site-packages\\sklearn\\base.py:464: UserWarning: X does not have valid feature names, but RandomForestClassifier was fitted with feature names\n",
      "  warnings.warn(\n"
     ]
    }
   ],
   "source": [
    "import joblib\n",
    "\n",
    "# Load the tfidf vectorizer and label encoder\n",
    "tfidf = joblib.load('models/tfidf_vectorizer.pkl')\n",
    "model = joblib.load('models/best_model.pkl')\n",
    "\n",
    "def preprocess_new_data(text):\n",
    "    # Remove punctuation\n",
    "    cleaned_text = text.replace('[^\\w\\s]', '')\n",
    "    vectorized_text = tfidf.transform([cleaned_text]).toarray()\n",
    "    return vectorized_text\n",
    "\n",
    "def make_prediction(text):\n",
    "    # Preprocess\n",
    "    vectorized_data = preprocess_new_data(text)\n",
    "    return model.predict(vectorized_data)[0]\n",
    "\n",
    "if __name__ == \"__main__\":\n",
    "    sample_text = \"Congratulations, you've won a free cruise!\"\n",
    "    prediction = make_prediction(sample_text)\n",
    "    print(prediction)\n"
   ]
  },
  {
   "cell_type": "code",
   "execution_count": null,
   "id": "a5463a28",
   "metadata": {},
   "outputs": [],
   "source": []
  }
 ],
 "metadata": {
  "kernelspec": {
   "display_name": "Python 3 (ipykernel)",
   "language": "python",
   "name": "python3"
  },
  "language_info": {
   "codemirror_mode": {
    "name": "ipython",
    "version": 3
   },
   "file_extension": ".py",
   "mimetype": "text/x-python",
   "name": "python",
   "nbconvert_exporter": "python",
   "pygments_lexer": "ipython3",
   "version": "3.11.4"
  }
 },
 "nbformat": 4,
 "nbformat_minor": 5
}
