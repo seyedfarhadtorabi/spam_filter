{
 "cells": [
  {
   "cell_type": "code",
   "execution_count": 17,
   "id": "7cbc07a1",
   "metadata": {},
   "outputs": [
    {
     "name": "stderr",
     "output_type": "stream",
     "text": [
      "C:\\Users\\Administrator\\AppData\\Roaming\\Python\\Python311\\site-packages\\sklearn\\utils\\validation.py:1184: DataConversionWarning: A column-vector y was passed when a 1d array was expected. Please change the shape of y to (n_samples, ), for example using ravel().\n",
      "  y = column_or_1d(y, warn=True)\n",
      "C:\\Users\\Administrator\\AppData\\Roaming\\Python\\Python311\\site-packages\\sklearn\\utils\\validation.py:1184: DataConversionWarning: A column-vector y was passed when a 1d array was expected. Please change the shape of y to (n_samples, ), for example using ravel().\n",
      "  y = column_or_1d(y, warn=True)\n",
      "C:\\Users\\Administrator\\AppData\\Roaming\\Python\\Python311\\site-packages\\sklearn\\utils\\validation.py:1184: DataConversionWarning: A column-vector y was passed when a 1d array was expected. Please change the shape of y to (n_samples, ), for example using ravel().\n",
      "  y = column_or_1d(y, warn=True)\n",
      "C:\\Users\\Administrator\\AppData\\Roaming\\Python\\Python311\\site-packages\\sklearn\\base.py:1151: DataConversionWarning: A column-vector y was passed when a 1d array was expected. Please change the shape of y to (n_samples,), for example using ravel().\n",
      "  return fit_method(estimator, *args, **kwargs)\n"
     ]
    },
    {
     "name": "stdout",
     "output_type": "stream",
     "text": [
      "{'Logistic Regression': {'accuracy': 0.979372197309417, 'precision': 0.89375, 'recall': 0.959731543624161, 'f1': 0.9255663430420711}, 'Naive Bayes': {'accuracy': 0.9668161434977578, 'precision': 0.8218390804597702, 'recall': 0.959731543624161, 'f1': 0.8854489164086687}, 'SVM': {'accuracy': 0.957847533632287, 'precision': 0.7965116279069767, 'recall': 0.9194630872483222, 'f1': 0.8535825545171339}, 'Random Forest': {'accuracy': 0.9865470852017937, 'precision': 0.971830985915493, 'recall': 0.9261744966442953, 'f1': 0.9484536082474226}}\n"
     ]
    },
    {
     "data": {
      "text/plain": [
       "['models/best_model.pkl']"
      ]
     },
     "execution_count": 17,
     "metadata": {},
     "output_type": "execute_result"
    }
   ],
   "source": [
    "# Imports\n",
    "from sklearn.linear_model import LogisticRegression\n",
    "from sklearn.naive_bayes import MultinomialNB\n",
    "from sklearn.svm import SVC\n",
    "from sklearn.ensemble import RandomForestClassifier\n",
    "from sklearn.metrics import accuracy_score, precision_score, recall_score, f1_score\n",
    "import joblib\n",
    "import os\n",
    "# Load preprocessed data\n",
    "X_train, X_test = pd.read_csv('data/X_train.csv'), pd.read_csv('data/X_test.csv')\n",
    "y_train, y_test = pd.read_csv('data/y_train.csv'), pd.read_csv('data/y_test.csv')\n",
    "\n",
    "# Initialize models\n",
    "logit = LogisticRegression()\n",
    "mnb = MultinomialNB()\n",
    "svm = SVC()\n",
    "rf = RandomForestClassifier()\n",
    "\n",
    "# Dictionary to store results\n",
    "models = {'Logistic Regression': logit, \n",
    "          'Naive Bayes': mnb,\n",
    "          'SVM': svm,\n",
    "          'Random Forest': rf\n",
    "         }\n",
    "\n",
    "results = {}\n",
    "\n",
    "# Train each model and evaluate\n",
    "for name, model in models.items():\n",
    "  \n",
    "  # Train model\n",
    "  model.fit(X_train, y_train)\n",
    "  \n",
    "  # Make predictions\n",
    "  y_pred = model.predict(X_test)\n",
    "  \n",
    "  # Evaluate metrics\n",
    "  acc = accuracy_score(y_test, y_pred)\n",
    "  prec = precision_score(y_test, y_pred)\n",
    "  rec = recall_score(y_test, y_pred)\n",
    "  f1 = f1_score(y_test, y_pred)\n",
    "  \n",
    "  # Store results\n",
    "  results[name] = {'accuracy': acc, \n",
    "                   'precision': prec, \n",
    "                   'recall': rec, \n",
    "                   'f1': f1}\n",
    "                   \n",
    "# Print results  \n",
    "print(results)\n",
    "\n",
    "os.makedirs('models', exist_ok=True)\n",
    "# Save best model \n",
    "\n",
    "# Verify models folder exists\n",
    "if not os.path.exists('models'):\n",
    "    os.makedirs('models')\n",
    "\n",
    "# Save best model\n",
    "best_model = max(results, key=results.get('accuracy')) \n",
    "joblib.dump(models[best_model], 'models/best_model.pkl')"
   ]
  },
  {
   "cell_type": "code",
   "execution_count": null,
   "id": "7ac9e855",
   "metadata": {},
   "outputs": [],
   "source": []
  }
 ],
 "metadata": {
  "kernelspec": {
   "display_name": "Python 3 (ipykernel)",
   "language": "python",
   "name": "python3"
  },
  "language_info": {
   "codemirror_mode": {
    "name": "ipython",
    "version": 3
   },
   "file_extension": ".py",
   "mimetype": "text/x-python",
   "name": "python",
   "nbconvert_exporter": "python",
   "pygments_lexer": "ipython3",
   "version": "3.11.4"
  }
 },
 "nbformat": 4,
 "nbformat_minor": 5
}
