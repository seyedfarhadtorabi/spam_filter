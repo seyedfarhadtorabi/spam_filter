{
 "cells": [
  {
   "cell_type": "code",
   "execution_count": 8,
   "id": "014f5973",
   "metadata": {},
   "outputs": [
    {
     "name": "stdout",
     "output_type": "stream",
     "text": [
      "  label                                            message\n",
      "0   ham  Go until jurong point, crazy.. Available only ...\n",
      "1   ham                      Ok lar... Joking wif u oni...\n",
      "2  spam  Free entry in 2 a wkly comp to win FA Cup fina...\n",
      "3   ham  U dun say so early hor... U c already then say...\n",
      "4   ham  Nah I don't think he goes to usf, he lives aro...\n",
      "     label                                            message\n",
      "5567  spam  This is the 2nd time we have tried 2 contact u...\n",
      "5568   ham               Will ü b going to esplanade fr home?\n",
      "5569   ham  Pity, * was in mood for that. So...any other s...\n",
      "5570   ham  The guy did some bitching but I acted like i'd...\n",
      "5571   ham                         Rofl. Its true to its name\n",
      "label      object\n",
      "message    object\n",
      "dtype: object\n",
      "label\n",
      "ham     4825\n",
      "spam     747\n",
      "Name: count, dtype: int64\n",
      "     label                                            message  length\n",
      "5567  spam  This is the 2nd time we have tried 2 contact u...     160\n",
      "Conclusions:\n",
      "- Dataset has 2 columns - label and message\n",
      "- Label has binary categories - ham and spam\n",
      "- Message lengths vary between ham and spam\n",
      "- Spam messages appear to have URL links and special characters\n"
     ]
    },
    {
     "data": {
      "image/png": "[encoded data removed]",
      "text/plain": [
       "<Figure size 640x480 with 1 Axes>"
      ]
     },
     "metadata": {},
     "output_type": "display_data"
    }
   ],
   "source": [
    "# Import libraries\n",
    "import pandas as pd\n",
    "import numpy as np\n",
    "import matplotlib.pyplot as plt\n",
    "import seaborn as sns\n",
    "\n",
    "# Load dataset \n",
    "df = pd.read_csv('SMSSpamCollection.csv', sep='\\t', names=['label', 'message'], dtype={'label': str, 'message': str})\n",
    "# Examine some data rows\n",
    "print(df.head())\n",
    "print(df.tail())\n",
    "\n",
    "# Check data types\n",
    "print(df.dtypes) \n",
    "\n",
    "# Target distribution\n",
    "print(df['label'].value_counts())\n",
    "sns.countplot(x=df['label'])\n",
    "\n",
    "# Examine message length\n",
    "df['length'] = df['message'].apply(len)\n",
    "df['length'].plot.hist()\n",
    "\n",
    "# Sample spam message\n",
    "print(df[df['label'] == 'spam'].sample(1))\n",
    "\n",
    "# Insights\n",
    "print(\"Conclusions:\")\n",
    "print(\"- Dataset has 2 columns - label and message\") \n",
    "print(\"- Label has binary categories - ham and spam\")\n",
    "print(\"- Message lengths vary between ham and spam\")\n",
    "print(\"- Spam messages appear to have URL links and special characters\")"
   ]
  },
  {
   "cell_type": "code",
   "execution_count": null,
   "id": "5102482a",
   "metadata": {},
   "outputs": [],
   "source": []
  }
 ],
 "metadata": {
  "kernelspec": {
   "display_name": "Python 3 (ipykernel)",
   "language": "python",
   "name": "python3"
  },
  "language_info": {
   "codemirror_mode": {
    "name": "ipython",
    "version": 3
   },
   "file_extension": ".py",
   "mimetype": "text/x-python",
   "name": "python",
   "nbconvert_exporter": "python",
   "pygments_lexer": "ipython3",
   "version": "3.11.4"
  }
 },
 "nbformat": 4,
 "nbformat_minor": 5
}
