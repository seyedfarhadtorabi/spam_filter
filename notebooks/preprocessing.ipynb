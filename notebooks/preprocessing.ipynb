{
 "cells": [
  {
   "cell_type": "code",
   "execution_count": 16,
   "id": "5e34ed2e",
   "metadata": {},
   "outputs": [],
   "source": [
    "import pandas as pd\n",
    "from sklearn.model_selection import train_test_split\n",
    "from sklearn.feature_extraction.text import TfidfVectorizer \n",
    "from imblearn.over_sampling import SMOTE\n",
    "from sklearn.preprocessing import LabelEncoder\n",
    "import joblib\n",
    "import os\n",
    "\n",
    "def preprocess_data():\n",
    "    # Load data\n",
    "    df = pd.read_csv('SMSSpamCollection.csv', sep='\\t', names=['label', 'message'])\n",
    "\n",
    "    # Remove punctuation \n",
    "    df['message'] = df['message'].str.replace('[^\\w\\s]','')\n",
    "\n",
    "    # Initialize vectorizer\n",
    "    tfidf = TfidfVectorizer(stop_words='english', max_features=1000)\n",
    "\n",
    "    # Vectorize text messages \n",
    "    X = tfidf.fit_transform(df['message']).toarray()\n",
    "\n",
    "    # Encode target labels\n",
    "    le = LabelEncoder()\n",
    "    y = le.fit_transform(df['label']) \n",
    "\n",
    "    # Split data\n",
    "    X_train, X_test, y_train, y_test = train_test_split(X, y, test_size=0.2, random_state=42)\n",
    "\n",
    "    # Oversample minority class\n",
    "    oversampler = SMOTE()\n",
    "    X_train, y_train = oversampler.fit_resample(X_train, y_train)\n",
    "\n",
    "    # Ensure data folder exists\n",
    "    os.makedirs('data', exist_ok=True)\n",
    "\n",
    "    # Save preprocessed data\n",
    "    pd.DataFrame(X_train).to_csv('data/X_train.csv', index=False)\n",
    "    pd.DataFrame(X_test).to_csv('data/X_test.csv', index=False)\n",
    "    pd.DataFrame(y_train).to_csv('data/y_train.csv', index=False)\n",
    "    pd.DataFrame(y_test).to_csv('data/y_test.csv', index=False)\n",
    "\n",
    "    # Ensure models folder exists\n",
    "    os.makedirs('models', exist_ok=True)\n",
    "\n",
    "    # Save the tfidf vectorizer and label encoder\n",
    "    joblib.dump(tfidf, 'models/tfidf_vectorizer.pkl')\n",
    "    joblib.dump(le, 'models/label_encoder.pkl')\n",
    "\n",
    "if __name__ == \"__main__\":\n",
    "    preprocess_data()\n"
   ]
  },
  {
   "cell_type": "code",
   "execution_count": null,
   "id": "cebf7865",
   "metadata": {},
   "outputs": [],
   "source": []
  }
 ],
 "metadata": {
  "kernelspec": {
   "display_name": "Python 3 (ipykernel)",
   "language": "python",
   "name": "python3"
  },
  "language_info": {
   "codemirror_mode": {
    "name": "ipython",
    "version": 3
   },
   "file_extension": ".py",
   "mimetype": "text/x-python",
   "name": "python",
   "nbconvert_exporter": "python",
   "pygments_lexer": "ipython3",
   "version": "3.11.4"
  }
 },
 "nbformat": 4,
 "nbformat_minor": 5
}
