{
 "cells": [
  {
   "cell_type": "code",
   "execution_count": 17,
   "id": "92c42b53",
   "metadata": {},
   "outputs": [
    {
     "name": "stdout",
     "output_type": "stream",
     "text": [
      "{'Logistic Regression': {'accuracy': 0.97847533632287, 'precision': 0.8881987577639752, 'recall': 0.959731543624161, 'f1': 0.9225806451612903}, 'Naive Bayes': {'accuracy': 0.9668161434977578, 'precision': 0.8255813953488372, 'recall': 0.9530201342281879, 'f1': 0.8847352024922118}, 'SVM': {'accuracy': 0.957847533632287, 'precision': 0.7965116279069767, 'recall': 0.9194630872483222, 'f1': 0.8535825545171339}, 'Random Forest': {'accuracy': 0.9901345291479821, 'precision': 0.9928571428571429, 'recall': 0.9328859060402684, 'f1': 0.9619377162629759}}\n"
     ]
    }
   ],
   "source": [
    "from sklearn.linear_model import LogisticRegression\n",
    "from sklearn.naive_bayes import MultinomialNB\n",
    "from sklearn.svm import SVC\n",
    "from sklearn.ensemble import RandomForestClassifier\n",
    "from sklearn.metrics import accuracy_score, precision_score, recall_score, f1_score\n",
    "import joblib\n",
    "import pandas as pd\n",
    "import os\n",
    "\n",
    "def train_and_save_model():\n",
    "    # Load preprocessed data\n",
    "    X_train = pd.read_csv('data/X_train.csv')\n",
    "    X_test = pd.read_csv('data/X_test.csv')\n",
    "    y_train = pd.read_csv('data/y_train.csv')\n",
    "    y_test = pd.read_csv('data/y_test.csv')\n",
    "\n",
    "    # Initialize models\n",
    "    models = {\n",
    "        'Logistic Regression': LogisticRegression(),\n",
    "        'Naive Bayes': MultinomialNB(),\n",
    "        'SVM': SVC(),\n",
    "        'Random Forest': RandomForestClassifier()\n",
    "    }\n",
    "\n",
    "    results = {}\n",
    "\n",
    "    # Train and evaluate each model\n",
    "    for name, model in models.items():\n",
    "        model.fit(X_train, y_train.values.ravel())\n",
    "        y_pred = model.predict(X_test)\n",
    "        results[name] = {\n",
    "            'accuracy': accuracy_score(y_test, y_pred),\n",
    "            'precision': precision_score(y_test, y_pred),\n",
    "            'recall': recall_score(y_test, y_pred),\n",
    "            'f1': f1_score(y_test, y_pred)\n",
    "        }\n",
    "\n",
    "    # Print results\n",
    "    print(results)\n",
    "\n",
    "    # Save the best model based on accuracy\n",
    "    best_model_name = max(results, key=lambda k: results[k]['accuracy'])\n",
    "    best_model = models[best_model_name]\n",
    "\n",
    "    # Ensure models folder exists\n",
    "    os.makedirs('models', exist_ok=True)\n",
    "\n",
    "    joblib.dump(best_model, 'models/best_model.pkl')\n",
    "\n",
    "if __name__ == \"__main__\":\n",
    "    train_and_save_model()\n"
   ]
  },
  {
   "cell_type": "code",
   "execution_count": null,
   "id": "24bea35a",
   "metadata": {},
   "outputs": [],
   "source": []
  }
 ],
 "metadata": {
  "kernelspec": {
   "display_name": "Python 3 (ipykernel)",
   "language": "python",
   "name": "python3"
  },
  "language_info": {
   "codemirror_mode": {
    "name": "ipython",
    "version": 3
   },
   "file_extension": ".py",
   "mimetype": "text/x-python",
   "name": "python",
   "nbconvert_exporter": "python",
   "pygments_lexer": "ipython3",
   "version": "3.11.4"
  }
 },
 "nbformat": 4,
 "nbformat_minor": 5
}
